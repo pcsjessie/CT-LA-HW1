from sympy import *
import numpy as np
init_printing(use_unicode=True)
from numpy.linalg import matrix_rank

# Problem 8
A=Matrix([[1,2,3,4,5],[1,2,3,4,5],[1,2,3,4,5],[1,2,3,4,5],[1,2,3,4,5]])
print(A**3)

# Problem 9
A=Matrix([[2,4,5],[2,6,1],[-2,9,15],[12,0,15],[3,34,-52]])
B=Matrix([[2,4,5,4],[2,6,1,4],[-2,9,15,4]])
C=A*B
D=C.T
print(D)

# Problem 10
M=np.matrix([[2,4,5],[2,6,1],[-2,9,15],[12,0,15],[3,34,-52]])
print(matrix_rank(M))

# Problem 11
M=Matrix([[1,0,1,3],[2,3,4,7],[-1,-3,-3,-4]])
print(M.rref())
